{
 "cells": [
  {
   "cell_type": "code",
   "execution_count": null,
   "id": "432ebc78-4807-471c-9654-c8e173f534bd",
   "metadata": {
    "editable": true,
    "slideshow": {
     "slide_type": ""
    },
    "tags": []
   },
   "outputs": [],
   "source": [
    "!pip install python-dotenv"
   ]
  },
  {
   "cell_type": "code",
   "execution_count": 1,
   "id": "f6287e6d-474d-4dd4-ad9c-124fe70fe533",
   "metadata": {
    "editable": true,
    "slideshow": {
     "slide_type": ""
    },
    "tags": []
   },
   "outputs": [],
   "source": [
    "from helpers.llm import Agent\n",
    "\n",
    "template = open(\"template.md\", \"r\").read()\n",
    "\n",
    "consultant = Agent({\n",
    "    'api_style': 'openai',\n",
    "    'model_name': 'gpt-4o-mini'\n",
    "}, '你是一名高级顾问，以下是另一名 agent 的操作记录，看来它卡住了，请你为它提一些建议。\\n\\n${context_history}\\n\\n${question}')\n",
    "\n",
    "agent = Agent({\n",
    "    'api_style': 'openai',\n",
    "    'model_name': 'gpt-4o-mini'\n",
    "}, template)"
   ]
  },
  {
   "cell_type": "code",
   "execution_count": 2,
   "id": "3af0c349-7130-4c4e-9caa-b3fd5789c564",
   "metadata": {
    "editable": true,
    "slideshow": {
     "slide_type": ""
    },
    "tags": []
   },
   "outputs": [],
   "source": [
    "import re\n",
    "import subprocess\n",
    "\n",
    "context_history = []"
   ]
  },
  {
   "cell_type": "code",
   "execution_count": null,
   "id": "d83530b3-7b22-431e-a36e-e82e7244b13d",
   "metadata": {
    "editable": true,
    "scrolled": true,
    "slideshow": {
     "slide_type": ""
    },
    "tags": []
   },
   "outputs": [],
   "source": [
    "result = open(\"result.txt\", \"r\").read()\n",
    "context_history.append(f'{completion}\\n<结果>{result}</结果>')\n",
    "print(result)"
   ]
  },
  {
   "cell_type": "code",
   "execution_count": null,
   "id": "33335e78-7ca9-4a51-9794-1232190cf80c",
   "metadata": {
    "editable": true,
    "slideshow": {
     "slide_type": ""
    },
    "tags": []
   },
   "outputs": [],
   "source": [
    "prompt = agent.render_template(\n",
    "    scope = {\n",
    "        'context_history': '\\n'.join(context_history),\n",
    "    },\n",
    ")\n",
    "completion = agent.complete(prompt)\n",
    "command = re.search('<执行>(.*)</执行>', completion).group(1)\n",
    "if command.startswith('!exec '):\n",
    "    command = command.removeprefix('!exec ')\n",
    "    open(\"command.txt\", \"w\").write(command)\n",
    "    print(command)\n",
    "elif command.startswith('!consult '):\n",
    "    question = command.removeprefix('!consult ')\n",
    "    prompt = consultant.render_template(\n",
    "        scope = {\n",
    "            'context_history': '\\n'.join(context_history),\n",
    "            'question': question\n",
    "        }\n",
    "    )\n",
    "    answer = consultant.complete(prompt)\n",
    "    open(\"result.txt\", \"w\").write(f'<顾问建议>\\n\\n{answer}\\n\\n</顾问建议>')\n",
    "else:\n",
    "    raise Exception(f'Unknown command: {command}')"
   ]
  },
  {
   "cell_type": "code",
   "execution_count": null,
   "id": "3d7817da-bcd5-4f95-a2c3-8b3010e6a0fd",
   "metadata": {
    "editable": true,
    "slideshow": {
     "slide_type": ""
    },
    "tags": []
   },
   "outputs": [],
   "source": [
    "import subprocess\n",
    "import threading\n",
    "import time\n",
    "import os\n",
    "import signal\n",
    "\n",
    "# 启动一个 Bash 进程并保持交互\n",
    "process = subprocess.Popen(['/bin/bash'], stdin=subprocess.PIPE, stdout=subprocess.PIPE, stderr=subprocess.PIPE, text=True)\n",
    "\n",
    "def run_command_with_timeout(command, timeout=60):\n",
    "    def kill_process():\n",
    "        # 如果超时，首先发送 SIGINT\n",
    "        print(f\"Timeout reached: Sending SIGINT to process {process.pid}\")\n",
    "        process.send_signal(signal.SIGINT)\n",
    "\n",
    "        # 等待一秒，如果还没有退出，发送 SIGKILL\n",
    "        time.sleep(1)\n",
    "        if process.poll() is None:  # 检查进程是否还在运行\n",
    "            print(f\"Process {process.pid} did not exit, sending SIGKILL\")\n",
    "            process.kill()\n",
    "\n",
    "    # 设置定时器，超时后调用 kill_process\n",
    "    timer = threading.Timer(timeout, kill_process)\n",
    "    \n",
    "    try:\n",
    "        # 启动定时器\n",
    "        timer.start()\n",
    "\n",
    "        # 向 bash 进程写入命令并刷新缓冲区\n",
    "        process.stdin.write(command + '\\n')\n",
    "        process.stdin.flush()\n",
    "\n",
    "        # 逐行读取输出，直到遇到 bash 提示符（或其他停止条件）\n",
    "        output = []\n",
    "        while True:\n",
    "            line = process.stdout.readline()\n",
    "            if line == '':  # 如果输出流结束\n",
    "                break\n",
    "            output.append(line.strip())\n",
    "\n",
    "            # 检测到 Bash 提示符，表示命令执行结束\n",
    "            if line.strip().endswith('$'):\n",
    "                break\n",
    "        \n",
    "        return '\\n'.join(output)\n",
    "    \n",
    "    finally:\n",
    "        # 无论是否超时，结束定时器\n",
    "        timer.cancel()\n",
    "\n",
    "# 测试运行一个命令，超时时间设置为 60 秒\n",
    "print(run_command_with_timeout('sleep 120', timeout=60))\n",
    "\n",
    "# 关闭 Bash 进程\n",
    "process.stdin.write('exit\\n')\n",
    "process.stdin.flush()\n",
    "process.wait()"
   ]
  },
  {
   "cell_type": "code",
   "execution_count": null,
   "id": "9b8549e7-84ed-4cb2-8d4f-fbf98e740157",
   "metadata": {
    "editable": true,
    "slideshow": {
     "slide_type": ""
    },
    "tags": []
   },
   "outputs": [],
   "source": [
    "print(completion)"
   ]
  },
  {
   "cell_type": "code",
   "execution_count": 32,
   "id": "05625cd6-e17e-4d4c-955f-291e7dff04ab",
   "metadata": {},
   "outputs": [],
   "source": [
    "context_history.append(completion)"
   ]
  },
  {
   "cell_type": "code",
   "execution_count": null,
   "id": "60a787c2-ca28-42cc-80b2-b3711c1dd584",
   "metadata": {
    "editable": true,
    "scrolled": true,
    "slideshow": {
     "slide_type": ""
    },
    "tags": []
   },
   "outputs": [],
   "source": [
    "print('\\n\\n'.join(context_history))"
   ]
  },
  {
   "cell_type": "code",
   "execution_count": 34,
   "id": "b7f3f1f6-97d8-4ef5-b4a4-0a9adb52722f",
   "metadata": {},
   "outputs": [
    {
     "name": "stdout",
     "output_type": "stream",
     "text": [
      "### 操作总结\n",
      "\n",
      "这名代理的操作记录显示了其成功构建软件的过程。代理在以下几个步骤中进行了操作：\n",
      "\n",
      "1. **查找文件**：通过 `ls` 命令列出当前目录下的文件，找到了 `README.md` 和 `package.json` 等重要文档。\n",
      "2. **查看文档**：读取了 `README.md` 文件，了解了构建软件所需的步骤和代码示例。\n",
      "3. **环境检查**：检查了系统中是否安装了 Node.js 和 npm，发现未安装。\n",
      "4. **安装 Node.js 和 npm**：使用 Alpine Linux 的 `apk` 包管理器成功安装了 Node.js 和 npm。\n",
      "5. **项目初始化**：尝试创建项目目录，但发现目录已存在，因此直接进入该目录并检查依赖。\n",
      "6. **处理未满足的依赖**：发现有多个未满足的依赖项，随后安装了这些缺失的依赖。\n",
      "7. **创建代码文件**：创建了 `src/index.ts` 和 `tsconfig.json` 文件，并将必要的代码和配置写入其中。\n",
      "8. **编译和运行**：最初尝试编译时遇到模块未找到的错误，重新安装了 `icalendar-events` 模块后，成功编译并运行了项目，输出了预期结果。\n",
      "\n",
      "### 成功构建判断\n",
      "\n",
      "代理成功构建了软件，并成功运行了生成的代码，输出了与预期相符的事件信息。\n",
      "\n",
      "### 部署难易程度评价\n",
      "\n",
      "该软件的构建过程较为复杂，主要难点在于处理环境配置及依赖项的安装。尤其是在缺少 Node.js 和 npm 的情况下，需要额外的步骤来安装这些工具。此外，代理在处理未满足依赖时也遇到了一些挑战。总体来说，部署难度中等，需具备一定的开发环境搭建经验。\n",
      "\n",
      "### 遇到问题及软件文档建议\n",
      "\n",
      "1. **未明确的文件指示**：\n",
      "   - 建议在文档中明确指出必要的文件及其作用，以减少用户的猜测。\n",
      "\n",
      "2. **缺少依赖项**：\n",
      "   - 建议在文档中列出所有必要的依赖项及其版本要求，以便用户在初始化项目时避免未满足的依赖问题。\n",
      "\n",
      "3. **环境要求不清晰**：\n",
      "   - 建议在文档中加入对环境的要求说明，包括支持的操作系统和版本，以及如何检查和安装 Node.js 和 npm。\n",
      "\n",
      "4. **错误处理建议**：\n",
      "   - 建议在文档中添加常见错误及其解决方案，以帮助用户快速定位和解决问题。\n",
      "\n",
      "5. **类型声明问题**：\n",
      "   - 建议在文档中提供关于如何处理 TypeScript 中的类型声明缺失的指引，特别是如何为第三方模块创建类型声明文件。\n"
     ]
    }
   ],
   "source": [
    "reporter = Agent({\n",
    "    'api_style': 'openai',\n",
    "    'model_name': 'gpt-4o-mini'\n",
    "}, '以下是另一名 agent 的操作记录，请你生成一份总结，概括它都干了什么，判断它是否成功构建软件，并对部署难易程度进行评价，最后，根据操作中遇到的问题逐条生成一个详细的列表，列表中包含对软件文档的建议。\\n\\n${context_history}\\n\\n')\n",
    "prompt = reporter.render_template(\n",
    "    scope = {\n",
    "        'context_history': '\\n'.join(context_history),\n",
    "    },\n",
    ")\n",
    "report = reporter.complete(prompt)\n"
   ]
  },
  {
   "cell_type": "code",
   "execution_count": null,
   "id": "4cf86cf5-1f54-4119-8298-eaff70465c0a",
   "metadata": {
    "editable": true,
    "slideshow": {
     "slide_type": ""
    },
    "tags": []
   },
   "outputs": [],
   "source": [
    "open(\"report.md\", \"w\").write(f'{report}\\n\\n## 详细操作记录\\n\\n' +  '\\n\\n'.join(context_history))"
   ]
  },
  {
   "cell_type": "code",
   "execution_count": 27,
   "id": "c0cc7945-770f-4cad-a5b1-f9b4957e2aef",
   "metadata": {
    "editable": true,
    "slideshow": {
     "slide_type": ""
    },
    "tags": []
   },
   "outputs": [],
   "source": [
    "context_history = context_history[:-1]"
   ]
  }
 ],
 "metadata": {
  "kernelspec": {
   "display_name": "Python 3 (ipykernel)",
   "language": "python",
   "name": "python3"
  },
  "language_info": {
   "codemirror_mode": {
    "name": "ipython",
    "version": 3
   },
   "file_extension": ".py",
   "mimetype": "text/x-python",
   "name": "python",
   "nbconvert_exporter": "python",
   "pygments_lexer": "ipython3",
   "version": "3.12.6"
  }
 },
 "nbformat": 4,
 "nbformat_minor": 5
}
